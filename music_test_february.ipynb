{
 "cells": [
  {
   "cell_type": "markdown",
   "metadata": {
    "id": "MUCDvCp898lg"
   },
   "source": [
    "# Musical test: brain and Otello!"
   ]
  },
  {
   "cell_type": "markdown",
   "metadata": {
    "id": "rI1tZB5M_le7"
   },
   "source": [
    "Drinking song, transformation of musical sequences, and mental states"
   ]
  },
  {
   "cell_type": "code",
   "execution_count": 19,
   "metadata": {},
   "outputs": [],
   "source": [
    "# Matrices: already computed with Omar's program, the Max MSP version of my code in C for the musical matrices"
   ]
  },
  {
   "cell_type": "code",
   "execution_count": 2,
   "metadata": {},
   "outputs": [],
   "source": [
    "import numpy as np"
   ]
  },
  {
   "cell_type": "code",
   "execution_count": 3,
   "metadata": {},
   "outputs": [],
   "source": [
    "sequenceA = np.array([[0.06, 0.04, 0.07, 0.08], [0.10, 0.10, 0.11, 0.07], [0.06, 0.03, 0.04, 0.03],[0.04, 0.10, 0.04, 0.03]])\n",
    "\n",
    "sequenceB = np.array([[0.09, 0.09, 0.06, 0.09], [0.09, 0.06, 0.03, 0.09], [0.09, 0.06, 0.03, 0.03], [0.00, 0.06, 0.06, 0.06]])\n",
    "\n",
    "sequenceC = np.array([[0.10, 0.10, 0.19, 0.05], [0.10, 0.00, 0.10, 0.10], [0.00, 0.00, 0.00, 0.00], [0.05, 0.10, 0.05, 0.10]])\n",
    "\n",
    "sequenceD = np.array([[0.04, 0.08, 0.04, 0.08], [0.08, 0.12, 0.08, 0.12], [0.00, 0.08, 0.00, 0.08], [0.04, 0.04, 0.04, 0.04]])"
   ]
  },
  {
   "cell_type": "code",
   "execution_count": 4,
   "metadata": {},
   "outputs": [
    {
     "name": "stdout",
     "output_type": "stream",
     "text": [
      "[[0.06 0.04 0.07 0.08]\n",
      " [0.1  0.1  0.11 0.07]\n",
      " [0.06 0.03 0.04 0.03]\n",
      " [0.04 0.1  0.04 0.03]]\n"
     ]
    }
   ],
   "source": [
    "print(sequenceA)"
   ]
  },
  {
   "cell_type": "code",
   "execution_count": 5,
   "metadata": {},
   "outputs": [],
   "source": [
    "# Help from Chat"
   ]
  },
  {
   "cell_type": "code",
   "execution_count": 6,
   "metadata": {},
   "outputs": [
    {
     "name": "stdout",
     "output_type": "stream",
     "text": [
      "D(1):\n",
      " [[ 1.125      -1.125       1.5         1.125     ]\n",
      " [ 1.48575949 -2.13132911  2.67721519  1.33386076]\n",
      " [-0.10917722 -0.84018987  2.52531646  0.72626582]\n",
      " [ 0.87341772  0.72151899 -2.20253165  0.18987342]]\n",
      "D(2):\n",
      " [[ 0.75438596 -1.73684211  1.87719298  1.36842105]\n",
      " [ 0.30075188  0.90225564 -0.32581454  0.02506266]\n",
      " [ 0.          0.          0.          0.        ]\n",
      " [ 0.40100251  0.36967419 -0.1566416   0.58897243]]\n",
      "D(3):\n",
      " [[-1.48821656e-16  0.00000000e+00  0.00000000e+00  8.00000000e-01]\n",
      " [ 1.03156959e-01  9.47976879e-02  0.00000000e+00  1.08243664e+00]\n",
      " [-2.06313917e-01 -1.89595376e-01  0.00000000e+00  1.03512672e+00]\n",
      " [ 1.03156959e-01  9.47976879e-02  0.00000000e+00  2.82436639e-01]]\n"
     ]
    }
   ],
   "source": [
    "from scipy.linalg import lstsq\n",
    "\n",
    "def compute_evolution_operator(matrices):\n",
    "    \"\"\"\n",
    "    Computes the best linear operator D(t) such that D(t) A(t) ≈ A(t+1)\n",
    "    using least squares regression.\n",
    "    \n",
    "    :param matrices: List of numpy arrays [A(0), A(1), A(2), A(3)]\n",
    "    :return: List of evolution operators [D(1), D(2), D(3)]\n",
    "    \"\"\"\n",
    "    operators = []\n",
    "    for t in range(len(matrices) - 1):\n",
    "        A_t = matrices[t]\n",
    "        A_next = matrices[t + 1]\n",
    "        \n",
    "        # Solve D @ A_t ≈ A_next using least squares\n",
    "        D_t, _, _, _ = lstsq(A_t.T, A_next.T)  # Solving A_t^T @ D^T = A_next^T\n",
    "        D_t = D_t.T  # Transpose back to get D\n",
    "        \n",
    "        operators.append(D_t)\n",
    "    \n",
    "    return operators\n",
    "\n",
    "# Example usage\n",
    "#A0 = np.random.rand(3, 3)\n",
    "#A1 = np.random.rand(3, 3)\n",
    "#A2 = np.random.rand(3, 3)\n",
    "#A3 = np.random.rand(3, 3)\n",
    "\n",
    "A0 = sequenceA\n",
    "A1 = sequenceB\n",
    "A2 = sequenceC\n",
    "A3 = sequenceD\n",
    "\n",
    "matrices = [A0, A1, A2, A3]\n",
    "D_operators = compute_evolution_operator(matrices)\n",
    "\n",
    "for i, D in enumerate(D_operators):\n",
    "    print(f\"D({i+1}):\\n\", D)\n"
   ]
  },
  {
   "cell_type": "code",
   "execution_count": 9,
   "metadata": {},
   "outputs": [],
   "source": [
    "D1 = [[ 1.125,  -1.125,       1.5,         1.125,     ],\n",
    " [ 1.48575949, -2.13132911,  2.67721519,  1.33386076],\n",
    " [-0.10917722, -0.84018987,  2.52531646,  0.72626582],\n",
    " [ 0.87341772,  0.72151899, -2.20253165,  0.18987342]]"
   ]
  },
  {
   "cell_type": "code",
   "execution_count": 11,
   "metadata": {},
   "outputs": [
    {
     "name": "stdout",
     "output_type": "stream",
     "text": [
      "[[ 9.00000000e-02  9.00000000e-02  6.00000000e-02  9.00000000e-02]\n",
      " [ 9.00000002e-02  6.00000003e-02  3.00000002e-02  9.00000000e-02]\n",
      " [ 9.00000002e-02  6.00000000e-02  3.00000001e-02  2.99999999e-02]\n",
      " [-3.27665110e-18  6.00000003e-02  6.00000001e-02  6.00000000e-02]]\n"
     ]
    }
   ],
   "source": [
    "test1 = D1@sequenceA\n",
    "print(test1)"
   ]
  },
  {
   "cell_type": "code",
   "execution_count": 13,
   "metadata": {},
   "outputs": [
    {
     "name": "stdout",
     "output_type": "stream",
     "text": [
      "[[0.09 0.09 0.06 0.09]\n",
      " [0.09 0.06 0.03 0.09]\n",
      " [0.09 0.06 0.03 0.03]\n",
      " [0.   0.06 0.06 0.06]]\n"
     ]
    }
   ],
   "source": [
    "sequenceB = np.array([[0.09, 0.09, 0.06, 0.09], [0.09, 0.06, 0.03, 0.09], [0.09, 0.06, 0.03, 0.03], [0.00, 0.06, 0.06, 0.06]])\n",
    "print(sequenceB)"
   ]
  },
  {
   "cell_type": "code",
   "execution_count": null,
   "metadata": {},
   "outputs": [],
   "source": []
  },
  {
   "cell_type": "code",
   "execution_count": 14,
   "metadata": {},
   "outputs": [
    {
     "name": "stdout",
     "output_type": "stream",
     "text": [
      "D(1):\n",
      " [[ 1.125      -1.125       1.5         1.125     ]\n",
      " [ 1.48575949 -2.13132911  2.67721519  1.33386076]\n",
      " [-0.10917722 -0.84018987  2.52531646  0.72626582]\n",
      " [ 0.87341772  0.72151899 -2.20253165  0.18987342]]\n",
      "D(2):\n",
      " [[ 0.75438596 -1.73684211  1.87719298  1.36842105]\n",
      " [ 0.30075188  0.90225564 -0.32581454  0.02506266]\n",
      " [ 0.          0.          0.          0.        ]\n",
      " [ 0.40100251  0.36967419 -0.1566416   0.58897243]]\n",
      "D(3):\n",
      " [[-1.48821656e-16  0.00000000e+00  0.00000000e+00  8.00000000e-01]\n",
      " [ 1.03156959e-01  9.47976879e-02  0.00000000e+00  1.08243664e+00]\n",
      " [-2.06313917e-01 -1.89595376e-01  0.00000000e+00  1.03512672e+00]\n",
      " [ 1.03156959e-01  9.47976879e-02  0.00000000e+00  2.82436639e-01]]\n",
      "Explicit functions for D(t):\n",
      " [['-0.5625 * t + 1.7515' '0.5625 * t + -2.0789' '-0.7500 * t + 2.6257'\n",
      "  '-0.1625 * t + 1.4228']\n",
      " ['-0.6913 * t + 2.0125' '1.1131 * t + -2.6042' '-1.3386 * t + 3.4610'\n",
      "  '-0.1257 * t + 1.0652']\n",
      " ['-0.0486 * t + -0.0080' '0.3253 * t + -0.9939' '-1.2627 * t + 3.3671'\n",
      "  '0.1544 * t + 0.2783']\n",
      " ['-0.3851 * t + 1.2295' '-0.3134 * t + 1.0221' '1.1013 * t + -2.9889'\n",
      "  '0.0463 * t + 0.2612']]\n"
     ]
    }
   ],
   "source": [
    "import numpy as np\n",
    "from scipy.linalg import lstsq\n",
    "from scipy.stats import linregress\n",
    "\n",
    "def compute_evolution_operator(matrices):\n",
    "    \"\"\"\n",
    "    Computes the best linear operator D(t) such that D(t) A(t) ≈ A(t+1)\n",
    "    using least squares regression.\n",
    "    \n",
    "    :param matrices: List of numpy arrays [A(0), A(1), A(2), A(3)]\n",
    "    :return: List of evolution operators [D(1), D(2), D(3)]\n",
    "    \"\"\"\n",
    "    operators = []\n",
    "    for t in range(len(matrices) - 1):\n",
    "        A_t = matrices[t]\n",
    "        A_next = matrices[t + 1]\n",
    "        \n",
    "        # Solve D @ A_t ≈ A_next using least squares\n",
    "        D_t, _, _, _ = lstsq(A_t.T, A_next.T)  # Solving A_t^T @ D^T = A_next^T\n",
    "        D_t = D_t.T  # Transpose back to get D\n",
    "        operators.append(D_t)\n",
    "    \n",
    "    return operators\n",
    "\n",
    "def estimate_D_t_linear(operators):\n",
    "    \"\"\"\n",
    "    Estimates D(t) as a function of time using linear regression on each matrix element.\n",
    "    \n",
    "    :param operators: List of evolution operators [D(1), D(2), D(3)]\n",
    "    :return: String representations of functions for each element of D(t)\n",
    "    \"\"\"\n",
    "    operators = np.array(operators)\n",
    "    T, M, N = operators.shape  # Number of time steps and matrix dimensions\n",
    "    time_steps = np.arange(1, T + 1)\n",
    "    function_expressions = np.empty((M, N), dtype=object)\n",
    "    \n",
    "    for i in range(M):\n",
    "        for j in range(N):\n",
    "            y_data = operators[:, i, j]\n",
    "            slope, intercept, _, _, _ = linregress(time_steps, y_data)\n",
    "            function_expressions[i, j] = f\"{slope:.4f} * t + {intercept:.4f}\"\n",
    "    \n",
    "    return function_expressions\n",
    "\n",
    "# Example usage\n",
    "A0 = np.array([[0.06, 0.04, 0.07, 0.08], [0.10, 0.10, 0.11, 0.07], [0.06, 0.03, 0.04, 0.03], [0.04, 0.10, 0.04, 0.03]])\n",
    "A1 = np.array([[0.09, 0.09, 0.06, 0.09], [0.09, 0.06, 0.03, 0.09], [0.09, 0.06, 0.03, 0.03], [0.00, 0.06, 0.06, 0.06]])\n",
    "A2 = np.array([[0.10, 0.10, 0.19, 0.05], [0.10, 0.00, 0.10, 0.10], [0.00, 0.00, 0.00, 0.00], [0.05, 0.10, 0.05, 0.10]])\n",
    "A3 = np.array([[0.04, 0.08, 0.04, 0.08], [0.08, 0.12, 0.08, 0.12], [0.00, 0.08, 0.00, 0.08], [0.04, 0.04, 0.04, 0.04]])\n",
    "\n",
    "matrices = [A0, A1, A2, A3]\n",
    "D_operators = compute_evolution_operator(matrices)\n",
    "function_expressions = estimate_D_t_linear(D_operators)\n",
    "\n",
    "for i, D in enumerate(D_operators):\n",
    "    print(f\"D({i+1}):\\n\", D)\n",
    "\n",
    "print(\"Explicit functions for D(t):\\n\", function_expressions)\n"
   ]
  },
  {
   "cell_type": "code",
   "execution_count": 26,
   "metadata": {},
   "outputs": [
    {
     "name": "stdout",
     "output_type": "stream",
     "text": [
      "[[0.082654 0.078221 0.041866 0.083052]\n",
      " [0.095086 0.06136  0.050939 0.093176]\n",
      " [0.073316 0.037278 0.023976 0.024783]\n",
      " [0.020578 0.078768 0.073861 0.069758]]\n"
     ]
    }
   ],
   "source": [
    "t = 1\n",
    "#t = 2\n",
    "\n",
    "Dt =  [[-0.5625 * t + 1.7515, 0.5625 * t + -2.0789, -0.7500 * t + 2.6257,\n",
    "  -0.1625 * t + 1.4228],\n",
    " [-0.6913 * t + 2.0125, 1.1131 * t + -2.6042, -1.3386 * t + 3.4610,\n",
    "  -0.1257 * t + 1.0652],\n",
    " [-0.0486 * t + -0.0080, 0.3253 * t + -0.9939, -1.2627 * t + 3.3671,\n",
    "  0.1544 * t + 0.2783],\n",
    " [-0.3851 * t + 1.2295, -0.3134 * t + 1.0221, 1.1013 * t + -2.9889,\n",
    "  0.0463 * t + 0.2612]]\n",
    "\n",
    "#print(Dt)\n",
    "\n",
    "testA = Dt@sequenceA\n",
    "print(testA)\n",
    "\n",
    "#testB = Dt@sequenceB\n",
    "#print(testB)"
   ]
  },
  {
   "cell_type": "code",
   "execution_count": 27,
   "metadata": {},
   "outputs": [
    {
     "name": "stdout",
     "output_type": "stream",
     "text": [
      "[[0.09 0.09 0.06 0.09]\n",
      " [0.09 0.06 0.03 0.09]\n",
      " [0.09 0.06 0.03 0.03]\n",
      " [0.   0.06 0.06 0.06]]\n"
     ]
    }
   ],
   "source": [
    "print(sequenceB)\n",
    "#print(sequenceC)"
   ]
  },
  {
   "cell_type": "code",
   "execution_count": null,
   "metadata": {},
   "outputs": [],
   "source": []
  }
 ],
 "metadata": {
  "accelerator": "GPU",
  "colab": {
   "machine_shape": "hm",
   "provenance": []
  },
  "kernelspec": {
   "display_name": "Python 3 (ipykernel)",
   "language": "python",
   "name": "python3"
  },
  "language_info": {
   "codemirror_mode": {
    "name": "ipython",
    "version": 3
   },
   "file_extension": ".py",
   "mimetype": "text/x-python",
   "name": "python",
   "nbconvert_exporter": "python",
   "pygments_lexer": "ipython3",
   "version": "3.10.8"
  }
 },
 "nbformat": 4,
 "nbformat_minor": 4
}
